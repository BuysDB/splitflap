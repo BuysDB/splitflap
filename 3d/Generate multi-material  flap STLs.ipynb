{
 "cells": [
  {
   "cell_type": "code",
   "execution_count": 10,
   "metadata": {},
   "outputs": [],
   "source": [
    "# this code generates a set of 3d models: all flaps\n",
    "from string import ascii_uppercase,digits,punctuation\n",
    "\n"
   ]
  },
  {
   "cell_type": "code",
   "execution_count": 25,
   "metadata": {},
   "outputs": [
    {
     "data": {
      "text/plain": [
       "'/home/buysdb/repos/splitflap3d/splitflap/3d'"
      ]
     },
     "execution_count": 25,
     "metadata": {},
     "output_type": "execute_result"
    }
   ],
   "source": [
    "pwd"
   ]
  },
  {
   "cell_type": "code",
   "execution_count": 20,
   "metadata": {},
   "outputs": [],
   "source": [
    "flap_set = list( digits+ascii_uppercase+':-. ')"
   ]
  },
  {
   "cell_type": "code",
   "execution_count": null,
   "metadata": {},
   "outputs": [],
   "source": [
    "\n",
    "prevletter = \"9\";\n",
    "render_letters = \"A\";\n",
    "curletter = render_letters;\n",
    "nextletter = \"B\";"
   ]
  },
  {
   "cell_type": "code",
   "execution_count": 43,
   "metadata": {},
   "outputs": [
    {
     "data": {
      "text/plain": [
       "1"
      ]
     },
     "execution_count": 43,
     "metadata": {},
     "output_type": "execute_result"
    }
   ],
   "source": [
    "1%2"
   ]
  },
  {
   "cell_type": "code",
   "execution_count": 44,
   "metadata": {},
   "outputs": [
    {
     "name": "stdout",
     "output_type": "stream",
     "text": [
      "  0 1\n",
      "1 2 3\n",
      "3 4 5\n",
      "5 6 7\n",
      "7 8 9\n",
      "9 A B\n",
      "B C D\n",
      "D E F\n",
      "F G H\n",
      "H I J\n",
      "J K L\n",
      "L M N\n",
      "N O P\n",
      "P Q R\n",
      "R S T\n",
      "T U V\n",
      "V W X\n",
      "X Y Z\n",
      "Z : -\n",
      "- .  \n"
     ]
    }
   ],
   "source": [
    "import os\n",
    "from multiprocessing import Pool\n",
    "\n",
    "export_folder = './STL/flaps/digits_letters_colon_dash_dot_space'\n",
    "\n",
    "if not os.path.exists(export_folder):\n",
    "    os.makedirs(export_folder)\n",
    "\n",
    "\n",
    "blocks = []\n",
    "for index,char in enumerate(flap_set):\n",
    "    if index%2==1:\n",
    "        continue\n",
    "    \n",
    "    prev_char = flap_set[index-1]\n",
    "    next_char = flap_set[(index+1)%len(flap_set) ]\n",
    "    print(prev_char,char,next_char)\n",
    "    \n",
    "    \n",
    "    \n",
    "    args  = f\"\"\" -D 'prevletter=\"{prev_char}\"' -D Y_FLAP_ROTATION=90 -D 'render_letters=\"{char}\"' -D 'nextletter=\"{next_char}\"'\"\"\"\n",
    "    scad_path = f'splitflap.scad'\n",
    "    stl_path = f'{export_folder}/{index}_{char}_letter.stl -D render_flap_letter=true ' + args #-D prevletter=\"{prev_char}\" -D render_letters=\"{char}\" -D nextletter=\"{next_char}\"'\n",
    "    cmds = [ f'openscad -o {stl_path} {scad_path}']\n",
    "    stl_path = f'{export_folder}/{index}_{char}_flap.stl -D render_flap_letter=false ' + args # -D prevletter=\"{prev_char}\" -D render_letters=\"{char}\" -D nextletter=\"{next_char}\"'\n",
    "    cmds.append( f'openscad -o {stl_path} {scad_path}')\n",
    "    blocks.append(cmds)\n",
    "\n",
    "def do(block):\n",
    "    for c in block:\n",
    "        os.system(c)\n",
    "with Pool() as workers:\n",
    "    list(workers.imap_unordered(do,blocks))"
   ]
  },
  {
   "cell_type": "code",
   "execution_count": null,
   "metadata": {
    "collapsed": true
   },
   "outputs": [],
   "source": []
  }
 ],
 "metadata": {
  "kernelspec": {
   "display_name": "Python 3.7",
   "language": "python",
   "name": "python3.7"
  },
  "language_info": {
   "codemirror_mode": {
    "name": "ipython",
    "version": 3
   },
   "file_extension": ".py",
   "mimetype": "text/x-python",
   "name": "python",
   "nbconvert_exporter": "python",
   "pygments_lexer": "ipython3",
   "version": "3.7.2"
  }
 },
 "nbformat": 4,
 "nbformat_minor": 4
}
