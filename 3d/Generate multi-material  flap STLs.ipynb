{
 "cells": [
  {
   "cell_type": "code",
   "execution_count": 2,
   "metadata": {},
   "outputs": [],
   "source": [
    "# this code generates a set of 3d models: all flaps\n",
    "from string import ascii_uppercase,digits,punctuation\n",
    "\n",
    "import os\n",
    "from multiprocessing import Pool\n",
    "\n",
    "\n",
    "def do(block):\n",
    "    for c in block:\n",
    "        os.system(c)"
   ]
  },
  {
   "cell_type": "code",
   "execution_count": 20,
   "metadata": {},
   "outputs": [],
   "source": []
  },
  {
   "cell_type": "code",
   "execution_count": null,
   "metadata": {},
   "outputs": [],
   "source": [
    "\n",
    "prevletter = \"9\";\n",
    "render_letters = \"A\";\n",
    "curletter = render_letters;\n",
    "nextletter = \"B\";"
   ]
  },
  {
   "cell_type": "code",
   "execution_count": 19,
   "metadata": {},
   "outputs": [
    {
     "name": "stdout",
     "output_type": "stream",
     "text": [
      "  0 1\n",
      "1 2 3\n",
      "3 4 5\n",
      "5 6 7\n",
      "7 8 9\n",
      "9 A B\n",
      "B C D\n",
      "D E F\n",
      "F G H\n",
      "H I J\n",
      "J K L\n",
      "L M N\n",
      "N O P\n",
      "P Q R\n",
      "R S T\n",
      "T U V\n",
      "V W X\n",
      "X Y Z\n",
      "Z : -\n",
      "- !  \n"
     ]
    }
   ],
   "source": [
    "\n",
    "flap_set = list( digits+ascii_uppercase+':-! ')\n",
    "export_folder = './STL/flaps/digits_letters_colon_dash_ex_space'\n",
    "\n",
    "if not os.path.exists(export_folder):\n",
    "    os.makedirs(export_folder)\n",
    "\n",
    "\n",
    "blocks = []\n",
    "for index,char in enumerate(flap_set):\n",
    "    if index%2==1:\n",
    "        continue\n",
    "    \n",
    "    prev_char = flap_set[index-1]\n",
    "    next_char = flap_set[(index+1)%len(flap_set) ]\n",
    "    print(prev_char,char,next_char)\n",
    "    \n",
    "    \n",
    "    \n",
    "    args  = f\"\"\" -D 'prevletter=\"{prev_char}\"' -D Y_FLAP_ROTATION=90 -D 'render_letters=\"{char}\"' -D 'nextletter=\"{next_char}\"'\"\"\"\n",
    "    scad_path = f'splitflap.scad'\n",
    "    stl_path = f'{export_folder}/{index}_{char}_letter.stl -D render_flap_letter=true ' + args #-D prevletter=\"{prev_char}\" -D render_letters=\"{char}\" -D nextletter=\"{next_char}\"'\n",
    "    cmds = [ f'openscad -o {stl_path} {scad_path}']\n",
    "    stl_path = f'{export_folder}/{index}_{char}_flap.stl -D render_flap_letter=false ' + args # -D prevletter=\"{prev_char}\" -D render_letters=\"{char}\" -D nextletter=\"{next_char}\"'\n",
    "    cmds.append( f'openscad -o {stl_path} {scad_path}')\n",
    "    blocks.append(cmds)\n",
    "\n",
    "with Pool() as workers:\n",
    "    list(workers.imap_unordered(do,blocks))"
   ]
  },
  {
   "cell_type": "code",
   "execution_count": 45,
   "metadata": {},
   "outputs": [
    {
     "data": {
      "text/plain": [
       "162"
      ]
     },
     "execution_count": 45,
     "metadata": {},
     "output_type": "execute_result"
    }
   ],
   "source": []
  },
  {
   "cell_type": "code",
   "execution_count": 16,
   "metadata": {},
   "outputs": [],
   "source": [
    "\n",
    "flap_set=[\n",
    "    \n",
    "    'JAN','FEB',\n",
    "    'MRT','APR',\n",
    "    'MEI','JUN',\n",
    "    'JUL','AUG',\n",
    "    'SEP','OKT',\n",
    "    'NOV','DEC',\n",
    "\n",
    "]\n",
    "export_folder = './STL/flaps/maanden'\n",
    "\n",
    "if not os.path.exists(export_folder):\n",
    "    os.makedirs(export_folder)\n",
    "\n",
    "fw = 54*3\n",
    "\n",
    "dimensionargs = f'-D flap_width={fw}' \n",
    "blocks = []\n",
    "\n",
    "for index,char in enumerate(flap_set):\n",
    "    if index%2==1:\n",
    "        continue\n",
    "\n",
    "    prev_char = flap_set[index-1]\n",
    "    next_char = flap_set[(index+1)%len(flap_set) ]\n",
    "    print(prev_char,char,next_char)\n",
    "    args  = f\"\"\"{dimensionargs} -D 'prevletter=\"{prev_char}\"' -D Y_FLAP_ROTATION=90 -D 'render_letters=\"{char}\"' -D 'nextletter=\"{next_char}\"'\"\"\"\n",
    "    scad_path = f'splitflap.scad'\n",
    "    stl_path = f'{export_folder}/{index}_{char}_letter.stl -D render_flap_letter=true ' + args #-D prevletter=\"{prev_char}\" -D render_letters=\"{char}\" -D nextletter=\"{next_char}\"'\n",
    "    cmds = [ f'openscad -o {stl_path} {scad_path}']\n",
    "    stl_path = f'{export_folder}/{index}_{char}_flap.stl -D render_flap_letter=false ' + args # -D prevletter=\"{prev_char}\" -D render_letters=\"{char}\" -D nextletter=\"{next_char}\"'\n",
    "    cmds.append( f'openscad -o {stl_path} {scad_path}')\n",
    "    blocks.append(cmds)\n",
    "\n",
    "# Draw the enclosure:\n",
    "\n",
    "\n",
    "scad_path = f'splitflap.scad'\n",
    "stl_path = f'{export_folder}/enclosure.stl {dimensionargs} -D render_main_spool=false -D render_enclosure=2 -D render_flaps=0'\n",
    "blocks.append( [ f'openscad -o {stl_path} {scad_path}'] )\n",
    "\n",
    "    \n",
    "with Pool() as workers:\n",
    "    list(workers.imap_unordered(do,blocks))"
   ]
  },
  {
   "cell_type": "code",
   "execution_count": 17,
   "metadata": {},
   "outputs": [
    {
     "name": "stdout",
     "output_type": "stream",
     "text": [
      "   Ma Di\n",
      "Di Wo Do\n",
      "Do Vr Za\n",
      "Za Zo   \n"
     ]
    }
   ],
   "source": [
    "\n",
    "flap_set=[\n",
    "    \n",
    "    'Ma','Di',\n",
    "    'Wo','Do',\n",
    "    'Vr','Za',\n",
    "    'Zo','  ',\n",
    "]\n",
    "export_folder = './STL/flaps/dagen_week'\n",
    "\n",
    "if not os.path.exists(export_folder):\n",
    "    os.makedirs(export_folder)\n",
    "\n",
    "fw = 54*2\n",
    "\n",
    "dimensionargs = f'-D flap_width={fw}' \n",
    "blocks = []\n",
    "\n",
    "for index,char in enumerate(flap_set):\n",
    "    if index%2==1:\n",
    "        continue\n",
    "\n",
    "    prev_char = flap_set[index-1]\n",
    "    next_char = flap_set[(index+1)%len(flap_set) ]\n",
    "    print(prev_char,char,next_char)\n",
    "    args  = f\"\"\"{dimensionargs} -D 'prevletter=\"{prev_char}\"' -D Y_FLAP_ROTATION=90 -D 'render_letters=\"{char}\"' -D 'nextletter=\"{next_char}\"'\"\"\"\n",
    "    scad_path = f'splitflap.scad'\n",
    "    stl_path = f'{export_folder}/{index}_{char}_letter.stl -D render_flap_letter=true ' + args #-D prevletter=\"{prev_char}\" -D render_letters=\"{char}\" -D nextletter=\"{next_char}\"'\n",
    "    cmds = [ f'openscad -o {stl_path} {scad_path}']\n",
    "    stl_path = f'{export_folder}/{index}_{char}_flap.stl -D render_flap_letter=false ' + args # -D prevletter=\"{prev_char}\" -D render_letters=\"{char}\" -D nextletter=\"{next_char}\"'\n",
    "    cmds.append( f'openscad -o {stl_path} {scad_path}')\n",
    "    blocks.append(cmds)\n",
    "\n",
    "# Draw the enclosure:\n",
    "\n",
    "\n",
    "scad_path = f'splitflap.scad'\n",
    "stl_path = f'{export_folder}/enclosure.stl {dimensionargs} -D render_main_spool=false -D render_enclosure=2 -D render_flaps=0'\n",
    "blocks.append( [ f'openscad -o {stl_path} {scad_path}'] )\n",
    "\n",
    "    \n",
    "with Pool() as workers:\n",
    "    list(workers.imap_unordered(do,blocks))"
   ]
  },
  {
   "cell_type": "code",
   "execution_count": null,
   "metadata": {},
   "outputs": [],
   "source": []
  },
  {
   "cell_type": "code",
   "execution_count": 5,
   "metadata": {},
   "outputs": [
    {
     "data": {
      "text/plain": [
       "[' ', '0', '1', '2', '3', '4', '5', '6', '7', '8', '9']"
      ]
     },
     "execution_count": 5,
     "metadata": {},
     "output_type": "execute_result"
    }
   ],
   "source": []
  },
  {
   "cell_type": "code",
   "execution_count": 16,
   "metadata": {},
   "outputs": [
    {
     "name": "stdout",
     "output_type": "stream",
     "text": [
      ":   0\n",
      "0 1 2\n",
      "2 3 4\n",
      "4 5 6\n",
      "6 7 8\n",
      "8 9 :\n"
     ]
    }
   ],
   "source": [
    "\n",
    "flap_set=list(' 0123456789:')\n",
    "    \n",
    "export_folder = './STL/flaps/digits'\n",
    "\n",
    "if not os.path.exists(export_folder):\n",
    "    os.makedirs(export_folder)\n",
    "\n",
    "fw = 54*1\n",
    "\n",
    "dimensionargs = f'-D flap_width={fw}' \n",
    "blocks = []\n",
    "\n",
    "for index,char in enumerate(flap_set):\n",
    "    if index%2==1:\n",
    "        continue\n",
    "\n",
    "    prev_char = flap_set[index-1]\n",
    "    next_char = flap_set[(index+1)%len(flap_set) ]\n",
    "    print(prev_char,char,next_char)\n",
    "    args  = f\"\"\"{dimensionargs} -D 'prevletter=\"{prev_char}\"' -D Y_FLAP_ROTATION=90 -D 'render_letters=\"{char}\"' -D 'nextletter=\"{next_char}\"'\"\"\"\n",
    "    scad_path = f'splitflap.scad'\n",
    "    stl_path = f'\"{export_folder}/{index}_{char}_letter.stl\" -D render_flap_letter=true ' + args #-D prevletter=\"{prev_char}\" -D render_letters=\"{char}\" -D nextletter=\"{next_char}\"'\n",
    "    cmds = [ f'openscad -o {stl_path} {scad_path}']\n",
    "    stl_path = f'\"{export_folder}/{index}_{char}_flap.stl\" -D render_flap_letter=false ' + args # -D prevletter=\"{prev_char}\" -D render_letters=\"{char}\" -D nextletter=\"{next_char}\"'\n",
    "    cmds.append( f'openscad -o {stl_path} {scad_path}')\n",
    "    blocks.append(cmds)\n",
    "\n",
    "# Draw the enclosure:\n",
    "\n",
    "\n",
    "scad_path = f'splitflap.scad'\n",
    "stl_path = f'{export_folder}/enclosure.stl {dimensionargs} -D render_main_spool=false -D render_enclosure=2 -D render_flaps=0'\n",
    "blocks.append( [ f'openscad -o {stl_path} {scad_path}'] )\n",
    "\n",
    "    \n",
    "with Pool() as workers:\n",
    "    list(workers.imap_unordered(do,blocks))"
   ]
  },
  {
   "cell_type": "code",
   "execution_count": 13,
   "metadata": {},
   "outputs": [
    {
     "data": {
      "text/plain": [
       "256"
      ]
     },
     "execution_count": 13,
     "metadata": {},
     "output_type": "execute_result"
    }
   ],
   "source": [
    "os.system( blocks[0][0] )"
   ]
  },
  {
   "cell_type": "code",
   "execution_count": 14,
   "metadata": {},
   "outputs": [
    {
     "data": {
      "text/plain": [
       "'openscad -o ./STL/flaps/digits/0_ _letter.stl -D render_flap_letter=true -D flap_width=54 -D \\'prevletter=\":\"\\' -D Y_FLAP_ROTATION=90 -D \\'render_letters=\" \"\\' -D \\'nextletter=\"0\"\\' splitflap.scad'"
      ]
     },
     "execution_count": 14,
     "metadata": {},
     "output_type": "execute_result"
    }
   ],
   "source": [
    "str(blocks[0][0])"
   ]
  },
  {
   "cell_type": "code",
   "execution_count": null,
   "metadata": {},
   "outputs": [],
   "source": []
  }
 ],
 "metadata": {
  "kernelspec": {
   "display_name": "Python 3.7",
   "language": "python",
   "name": "python3.7"
  },
  "language_info": {
   "codemirror_mode": {
    "name": "ipython",
    "version": 3
   },
   "file_extension": ".py",
   "mimetype": "text/x-python",
   "name": "python",
   "nbconvert_exporter": "python",
   "pygments_lexer": "ipython3",
   "version": "3.7.2"
  }
 },
 "nbformat": 4,
 "nbformat_minor": 4
}
